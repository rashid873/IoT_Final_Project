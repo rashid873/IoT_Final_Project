{
  "nbformat": 4,
  "nbformat_minor": 0,
  "metadata": {
    "colab": {
      "provenance": []
    },
    "kernelspec": {
      "name": "python3",
      "display_name": "Python 3"
    },
    "language_info": {
      "name": "python"
    }
  },
  "cells": [
    {
      "cell_type": "code",
      "execution_count": 1,
      "metadata": {
        "colab": {
          "base_uri": "https://localhost:8080/"
        },
        "id": "un6kQa2qIQwl",
        "outputId": "fc59de2f-e216-4dcf-c102-a3b36a54fc6a"
      },
      "outputs": [
        {
          "output_type": "stream",
          "name": "stdout",
          "text": [
            "Classification Report:\n",
            "\n",
            "                  precision    recall  f1-score   support\n",
            "\n",
            "       Low Light       1.00      1.00      1.00       120\n",
            "         Optimal       1.00      1.00      1.00       120\n",
            "Poor Air Quality       1.00      1.00      1.00       120\n",
            "     Too Hot/Dry       1.00      1.00      1.00       120\n",
            "         Too Wet       1.00      1.00      1.00       120\n",
            "     Unfavorable       1.00      1.00      1.00       120\n",
            "\n",
            "        accuracy                           1.00       720\n",
            "       macro avg       1.00      1.00      1.00       720\n",
            "    weighted avg       1.00      1.00      1.00       720\n",
            "\n",
            "Confusion Matrix:\n",
            "\n",
            "[[120   0   0   0   0   0]\n",
            " [  0 120   0   0   0   0]\n",
            " [  0   0 120   0   0   0]\n",
            " [  0   0   0 120   0   0]\n",
            " [  0   0   0   0 120   0]\n",
            " [  0   0   0   0   0 120]]\n",
            "\n",
            "✅ Model and encoder saved successfully!\n"
          ]
        }
      ],
      "source": [
        "# environment_classifier_train.py\n",
        "\n",
        "import pandas as pd\n",
        "from sklearn.model_selection import train_test_split\n",
        "from sklearn.ensemble import RandomForestClassifier\n",
        "from sklearn.preprocessing import LabelEncoder\n",
        "from sklearn.metrics import classification_report, confusion_matrix\n",
        "import joblib\n",
        "\n",
        "# 1. Load dataset\n",
        "df = pd.read_csv(\"/content/environment_dataset.csv\")  # Make sure this file is in the same directory\n",
        "\n",
        "# 2. Encode class labels to integers\n",
        "label_encoder = LabelEncoder()\n",
        "df['label_encoded'] = label_encoder.fit_transform(df['label'])\n",
        "\n",
        "# 3. Define features and target\n",
        "features = [\"temperature\", \"humidity\", \"mq135_ao\", \"ldr_ao\", \"soil_ao\"]\n",
        "X = df[features]\n",
        "y = df[\"label_encoded\"]\n",
        "\n",
        "# 4. Train-test split\n",
        "X_train, X_test, y_train, y_test = train_test_split(\n",
        "    X, y, test_size=0.2, stratify=y, random_state=42\n",
        ")\n",
        "\n",
        "# 5. Train the model\n",
        "model = RandomForestClassifier(n_estimators=100, random_state=42)\n",
        "model.fit(X_train, y_train)\n",
        "\n",
        "# 6. Evaluate\n",
        "y_pred = model.predict(X_test)\n",
        "print(\"Classification Report:\\n\")\n",
        "print(classification_report(y_test, y_pred, target_names=label_encoder.classes_))\n",
        "print(\"Confusion Matrix:\\n\")\n",
        "print(confusion_matrix(y_test, y_pred))\n",
        "\n",
        "# 7. Save the model and encoder\n",
        "joblib.dump(model, \"environment_model.pkl\")\n",
        "joblib.dump(label_encoder, \"label_encoder.pkl\")\n",
        "print(\"\\n✅ Model and encoder saved successfully!\")\n"
      ]
    },
    {
      "cell_type": "code",
      "source": [
        "import joblib\n",
        "import numpy as np\n",
        "\n",
        "# Load trained model and label encoder\n",
        "model = joblib.load(\"environment_model.pkl\")\n",
        "label_encoder = joblib.load(\"label_encoder.pkl\")\n",
        "\n",
        "# 🔢 Example sensor input (real or simulated)\n",
        "# Replace with actual values from your ESP32 readings\n",
        "input_data = np.array([[30.80, 75.0, 1317, 3515, 4092]])  # Shape: (1, 5)\n",
        "\n",
        "# Predict class\n",
        "predicted_class_index = model.predict(input_data)[0]\n",
        "predicted_class_label = label_encoder.inverse_transform([predicted_class_index])[0]\n",
        "\n",
        "print(\"✅ Predicted Environment Class:\", predicted_class_label)\n"
      ],
      "metadata": {
        "colab": {
          "base_uri": "https://localhost:8080/"
        },
        "id": "U69E27dtIhOL",
        "outputId": "f6ae7010-5adf-401b-b3a3-ab03b97f3e44"
      },
      "execution_count": 8,
      "outputs": [
        {
          "output_type": "stream",
          "name": "stdout",
          "text": [
            "✅ Predicted Environment Class: Too Hot/Dry\n"
          ]
        },
        {
          "output_type": "stream",
          "name": "stderr",
          "text": [
            "/usr/local/lib/python3.11/dist-packages/sklearn/utils/validation.py:2739: UserWarning: X does not have valid feature names, but RandomForestClassifier was fitted with feature names\n",
            "  warnings.warn(\n"
          ]
        }
      ]
    }
  ]
}